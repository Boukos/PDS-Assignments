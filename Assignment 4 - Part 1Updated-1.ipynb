{
 "metadata": {
  "name": ""
 },
 "nbformat": 3,
 "nbformat_minor": 0,
 "worksheets": [
  {
   "cells": [
    {
     "cell_type": "heading",
     "level": 4,
     "metadata": {},
     "source": [
      "\n",
      "1) - How many shops are there??"
     ]
    },
    {
     "cell_type": "markdown",
     "metadata": {},
     "source": [
      "SELECT COUNT(shops.shop_id) as count <br/>\n",
      "FROM shops;<br/>\n",
      "<br/>\n",
      "OUTPUT:<br/>\n",
      "<br/><b>46426</b>\n"
     ]
    },
    {
     "cell_type": "heading",
     "level": 4,
     "metadata": {},
     "source": [
      "2) - What is the average price over all listings? What is the average \u201cprice\u201d across all transactions?"
     ]
    },
    {
     "cell_type": "markdown",
     "metadata": {},
     "source": [
      "SELECT AVG(listings.price) as avgPriceListing<br/>\n",
      "FROM listings;<br/>\n",
      "<br/>\n",
      "OUTPUT:<br/>\n",
      "Average Price over all listing = \n",
      "<b>3521.7482 Cents</b><br/><br/>\n",
      "SELECT AVG(price*100) as avgPriceTrans<br/>\n",
      "FROM transactions;<br/>\n",
      "<br/>\n",
      "OUTPUT:<br/>Average Price over all transactions = \n",
      "<b>2075.8080 Cents</b>\n"
     ]
    },
    {
     "cell_type": "heading",
     "level": 4,
     "metadata": {},
     "source": [
      "3) - What is the average individual price of each listing purchased (note that the price field in the transactions table is the total price for the transaction; you need to control for quantity). How does this compare to the average listing price?"
     ]
    },
    {
     "cell_type": "markdown",
     "metadata": {},
     "source": [
      "SELECT AVG((transactions.price*100)/transactions.`quantity`) as avgPriceTransAdjForQuantity<br/>\n",
      "FROM transactions <br/>\n",
      "SELECT AVG(listings.price) as avgPriceListing<br/>\n",
      "FROM listings<br/><br/>\n",
      "OUTPUT: <br/>\n",
      "Average Indv. Price of each listing purchased = <b>2045.05588738 Cents</b><br/>"
     ]
    },
    {
     "cell_type": "markdown",
     "metadata": {},
     "source": [
      "The average listing price is \\$35.21 while the average individual price of actual listings purchased is $20.45, which may indicate that customers are more likley to buy cheaper items more frequently than the more expensive items on Etsy. "
     ]
    },
    {
     "cell_type": "heading",
     "level": 4,
     "metadata": {},
     "source": [
      "4) - Remove listings with a price or quantity of 0 and recompute the average price. How does this compare to the average price of each listing purchased?"
     ]
    },
    {
     "cell_type": "markdown",
     "metadata": {},
     "source": [
      "SELECT AVG(listings.price) as avgPriceListing<br/>\n",
      "FROM listings<br/>\n",
      "WHERE listings.price <> '0' and listings.quantity <> '0'<br/>\n",
      "<br/>\n",
      "SELECT AVG(price*100) as avgPriceTrans<br/>\n",
      "FROM transactions<br/><br/>\n",
      "OUTPUT:<br/>\n",
      "Average price of listings w/o Zeros = <b>3753.6990 Cents</b>"
     ]
    },
    {
     "cell_type": "markdown",
     "metadata": {},
     "source": [
      "The average listing price is \\$35.21 while the average listing price accounting for listings that are priced at Zero or have a qunatity of Zero is \\$37.53, which is expected since removing lower bound elements (ie. Zeros) will increase the average price of listings."
     ]
    },
    {
     "cell_type": "heading",
     "level": 4,
     "metadata": {},
     "source": [
      "5) - What are the 5 most expensive listings"
     ]
    },
    {
     "cell_type": "markdown",
     "metadata": {},
     "source": [
      "SELECT listing_id,user_id,price <br/>\n",
      "FROM listings<br/>\n",
      "ORDER BY price DESC<br/>\n",
      "LIMIT 5<br/>\n",
      "<br/>\n",
      "SELECT listing_id,user_id, price/quantity as priceAdjustedForQuantity<br/>\n",
      "FROM listings<br/>\n",
      "ORDER BY priceAdjustedForQuantity DESC<br/>\n",
      "LIMIT 5<br/><br/>\n",
      "OUTPUT:<br/>\n",
      "<table>\n",
      "    <tr>\n",
      "        <td>\n",
      "           <b> Listing ID</b>\n",
      "        </td>\n",
      "        <td>\n",
      "            <b>User ID</b>\n",
      "        </td>\n",
      "        <td>\n",
      "            <b>Listing Price</b>\n",
      "        </td>\n",
      "    </tr>\n",
      "        <tr>\n",
      "        <td>\n",
      "            929296\n",
      "        </td>\n",
      "        <td>\n",
      "            760430\n",
      "        </td>\n",
      "        <td>\n",
      "            25000000\n",
      "        </td>\n",
      "    </tr>\n",
      "            <tr>\n",
      "        <td>\n",
      "            825605\n",
      "        </td>\n",
      "        <td>\n",
      "            168439\n",
      "        </td>\n",
      "        <td>\n",
      "            3500000\n",
      "        </td>\n",
      "    </tr>\n",
      "            <tr>\n",
      "        <td>\n",
      "            149300\n",
      "        </td>\n",
      "        <td>\n",
      "            440712\n",
      "        </td>\n",
      "        <td>\n",
      "            2000000\n",
      "        </td>\n",
      "    </tr>\n",
      "            <tr>\n",
      "        <td>\n",
      "            92558\n",
      "        </td>\n",
      "        <td>\n",
      "            594058\n",
      "        </td>\n",
      "        <td>\n",
      "            1100000\n",
      "        </td>\n",
      "    </tr>\n",
      "            <tr>\n",
      "        <td>\n",
      "            65276\n",
      "        </td>\n",
      "        <td>\n",
      "            445767\n",
      "        </td>\n",
      "        <td>\n",
      "            1000000\n",
      "        </td>\n",
      "    </tr>\n",
      "</table>"
     ]
    },
    {
     "cell_type": "heading",
     "level": 4,
     "metadata": {},
     "source": [
      "6) - How many listings has each user purchased? (Explain your interpretation(s))"
     ]
    },
    {
     "cell_type": "markdown",
     "metadata": {},
     "source": [
      "SELECT buyer_user_id, COUNT(quantity)<br/>\n",
      "from transactions<br/>\n",
      "group by buyer_user_id<br/>\n",
      "</br>\n",
      "OUTPUT:<br/>\n",
      "<table>\n",
      "    <tr>\n",
      "        <td>\n",
      "           <b>Buyer_user_id</b>\n",
      "        </td>\n",
      "        <td>\n",
      "            <b>Quantity</b>\n",
      "        </td>\n",
      "    </tr>\n",
      "        <tr>\n",
      "        <td>\n",
      "            11\n",
      "        </td>\n",
      "        <td>\n",
      "            1\n",
      "        </td>\n",
      "\n",
      "    </tr>\n",
      "            <tr>\n",
      "        <td>\n",
      "            21\n",
      "        </td>\n",
      "        <td>\n",
      "            1\n",
      "        </td>\n",
      "\n",
      "    </tr>\n",
      "            <tr>\n",
      "        <td>\n",
      "            24\n",
      "        </td>\n",
      "        <td>\n",
      "            1\n",
      "        </td>\n",
      "    </tr>\n",
      "            <tr>\n",
      "        <td>\n",
      "            37\n",
      "        </td>\n",
      "        <td>\n",
      "            1\n",
      "        </td>\n",
      "    </tr>\n",
      "            <tr>\n",
      "        <td>\n",
      "            51\n",
      "        </td>\n",
      "        <td>\n",
      "            1\n",
      "        </td>\n",
      "    </tr>\n",
      "</table>"
     ]
    },
    {
     "cell_type": "code",
     "collapsed": false,
     "input": [],
     "language": "python",
     "metadata": {},
     "outputs": []
    }
   ],
   "metadata": {}
  }
 ]
}