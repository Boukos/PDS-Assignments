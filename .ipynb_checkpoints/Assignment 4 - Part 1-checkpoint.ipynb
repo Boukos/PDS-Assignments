{
 "metadata": {
  "name": ""
 },
 "nbformat": 3,
 "nbformat_minor": 0,
 "worksheets": [
  {
   "cells": [
    {
     "cell_type": "heading",
     "level": 4,
     "metadata": {},
     "source": [
      "\n",
      "1) - How many shops are there??"
     ]
    },
    {
     "cell_type": "markdown",
     "metadata": {},
     "source": [
      "SELECT COUNT(shops.shop_id) as count <br/>\n",
      "FROM shops;<br/>\n",
      "<br/>\n",
      "OUTPUT:<br/>\n",
      "<br/><b>46426</b>\n"
     ]
    },
    {
     "cell_type": "heading",
     "level": 4,
     "metadata": {},
     "source": [
      "2) - What is the average price over all listings? What is the average \u201cprice\u201d across all transactions?"
     ]
    },
    {
     "cell_type": "markdown",
     "metadata": {},
     "source": [
      "SELECT AVG(listings.price) as avgPriceListing<br/>\n",
      "FROM listings;<br/>\n",
      "<br/>\n",
      "OUTPUT:<br/>\n",
      "Average Price over all listing = \n",
      "<b>3521.7482 Cents</b><br/><br/>\n",
      "SELECT AVG(price*100) as avgPriceTrans<br/>\n",
      "FROM transactions;<br/>\n",
      "<br/>\n",
      "OUTPUT:<br/>Average Price over all transactions = \n",
      "<b>2075.8080 Cents</b>\n"
     ]
    },
    {
     "cell_type": "heading",
     "level": 4,
     "metadata": {},
     "source": [
      "3) - What is the average individual price of each listing purchased (note that the price field in the transactions table is the total price for the transaction; you need to control for quantity). How does this compare to the average listing price?"
     ]
    },
    {
     "cell_type": "markdown",
     "metadata": {},
     "source": [
      "SELECT AVG((transactions.price*100)/transactions.`quantity`) as avgPriceTransAdjForQuantity<br/>\n",
      "FROM transactions <br/>\n",
      "SELECT AVG(listings.price) as avgPriceListing<br/>\n",
      "FROM listings<br/><br/>\n",
      "OUTPUT: <br/>\n",
      "Average Indv. Price of each listing purchased = <b>2045.05588738 Cents</b><br/>"
     ]
    },
    {
     "cell_type": "code",
     "collapsed": false,
     "input": [],
     "language": "python",
     "metadata": {},
     "outputs": []
    }
   ],
   "metadata": {}
  }
 ]
}