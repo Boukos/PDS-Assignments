{
 "metadata": {
  "name": "Homework3"
 },
 "nbformat": 3,
 "nbformat_minor": 0,
 "worksheets": [
  {
   "cells": [
    {
     "cell_type": "code",
     "collapsed": false,
     "input": "!curl --insecure https://dl.dropboxusercontent.com/u/2143857/user_tag_activity.json -o userActivity.json",
     "language": "python",
     "metadata": {},
     "outputs": [
      {
       "output_type": "stream",
       "stream": "stdout",
       "text": "  % Total    % Received % Xferd  Average Speed   Time    Time     Time  Current\r\n                                 Dload  Upload   Total   Spent    Left  Speed\r\n\r  0     0    0     0    0     0      0      0 --:--:-- --:--:-- --:--:--     0"
      },
      {
       "output_type": "stream",
       "stream": "stdout",
       "text": "\r  0  100M    0  831k    0     0   649k      0  0:02:37  0:00:01  0:02:36  908k"
      },
      {
       "output_type": "stream",
       "stream": "stdout",
       "text": "\r  1  100M    1 1935k    0     0   848k      0  0:02:00  0:00:02  0:01:58 1010k"
      },
      {
       "output_type": "stream",
       "stream": "stdout",
       "text": "\r  5  100M    5 5647k    0     0  1722k      0  0:00:59  0:00:03  0:00:56 1938k"
      },
      {
       "output_type": "stream",
       "stream": "stdout",
       "text": "\r  8  100M    8 9199k    0     0  2149k      0  0:00:47  0:00:04  0:00:43 2349k"
      },
      {
       "output_type": "stream",
       "stream": "stdout",
       "text": "\r 12  100M   12 12.2M    0     0  2369k      0  0:00:43  0:00:05  0:00:38 2545k"
      },
      {
       "output_type": "stream",
       "stream": "stdout",
       "text": "\r 15  100M   15 15.8M    0     0  2591k      0  0:00:39  0:00:06  0:00:33 3088k"
      },
      {
       "output_type": "stream",
       "stream": "stdout",
       "text": "\r 19  100M   19 19.6M    0     0  2759k      0  0:00:37  0:00:07  0:00:30 3632k"
      },
      {
       "output_type": "stream",
       "stream": "stdout",
       "text": "\r 23  100M   23 23.3M    0     0  2883k      0  0:00:35  0:00:08  0:00:27 3644k"
      },
      {
       "output_type": "stream",
       "stream": "stdout",
       "text": "\r 27  100M   27 27.1M    0     0  2996k      0  0:00:34  0:00:09  0:00:25 3721k"
      },
      {
       "output_type": "stream",
       "stream": "stdout",
       "text": "\r 30  100M   30 30.8M    0     0  3072k      0  0:00:33  0:00:10  0:00:23 3813k"
      },
      {
       "output_type": "stream",
       "stream": "stdout",
       "text": "\r 34  100M   34 34.4M    0     0  3123k      0  0:00:32  0:00:11  0:00:21 3792k"
      },
      {
       "output_type": "stream",
       "stream": "stdout",
       "text": "\r 38  100M   38 38.1M    0     0  3180k      0  0:00:32  0:00:12  0:00:20 3792k"
      },
      {
       "output_type": "stream",
       "stream": "stdout",
       "text": "\r 41  100M   41 41.8M    0     0  3226k      0  0:00:31  0:00:13  0:00:18 3794k"
      },
      {
       "output_type": "stream",
       "stream": "stdout",
       "text": "\r 45  100M   45 45.9M    0     0  3295k      0  0:00:31  0:00:14  0:00:17 3850k"
      },
      {
       "output_type": "stream",
       "stream": "stdout",
       "text": "\r 49  100M   49 49.9M    0     0  3345k      0  0:00:30  0:00:15  0:00:15 3907k"
      },
      {
       "output_type": "stream",
       "stream": "stdout",
       "text": "\r 53  100M   53 53.7M    0     0  3381k      0  0:00:30  0:00:16  0:00:14 3964k"
      },
      {
       "output_type": "stream",
       "stream": "stdout",
       "text": "\r 57  100M   57 57.7M    0     0  3424k      0  0:00:29  0:00:17  0:00:12 4022k"
      },
      {
       "output_type": "stream",
       "stream": "stdout",
       "text": "\r 59  100M   59 59.0M    0     0  3309k      0  0:00:30  0:00:18  0:00:12 3531k"
      },
      {
       "output_type": "stream",
       "stream": "stdout",
       "text": "\r 60  100M   60 60.9M    0     0  3237k      0  0:00:31  0:00:19  0:00:12 3073k"
      },
      {
       "output_type": "stream",
       "stream": "stdout",
       "text": "\r 64  100M   64 64.2M    0     0  3244k      0  0:00:31  0:00:20  0:00:11 2938k"
      },
      {
       "output_type": "stream",
       "stream": "stdout",
       "text": "\r 68  100M   68 68.5M    0     0  3300k      0  0:00:31  0:00:21  0:00:10 3034k"
      },
      {
       "output_type": "stream",
       "stream": "stdout",
       "text": "\r 72  100M   72 72.6M    0     0  3337k      0  0:00:30  0:00:22  0:00:08 3040k"
      },
      {
       "output_type": "stream",
       "stream": "stdout",
       "text": "\r 76  100M   76 76.8M    0     0  3379k      0  0:00:30  0:00:23  0:00:07 3634k"
      },
      {
       "output_type": "stream",
       "stream": "stdout",
       "text": "\r 81  100M   81 81.3M    0     0  3431k      0  0:00:29  0:00:24  0:00:05 4180k"
      },
      {
       "output_type": "stream",
       "stream": "stdout",
       "text": "\r 85  100M   85 85.2M    0     0  3453k      0  0:00:29  0:00:25  0:00:04 4297k"
      },
      {
       "output_type": "stream",
       "stream": "stdout",
       "text": "\r 88  100M   88 89.0M    0     0  3470k      0  0:00:29  0:00:26  0:00:03 4196k"
      },
      {
       "output_type": "stream",
       "stream": "stdout",
       "text": "\r 89  100M   89 89.9M    0     0  3376k      0  0:00:30  0:00:27  0:00:03 3545k"
      },
      {
       "output_type": "stream",
       "stream": "stdout",
       "text": "\r 90  100M   90 90.3M    0     0  3269k      0  0:00:31  0:00:28  0:00:03 2758k"
      },
      {
       "output_type": "stream",
       "stream": "stdout",
       "text": "\r 90  100M   90 90.6M    0     0  3169k      0  0:00:32  0:00:29  0:00:03 1894k"
      },
      {
       "output_type": "stream",
       "stream": "stdout",
       "text": "\r 90  100M   90 90.9M    0     0  3075k      0  0:00:33  0:00:30  0:00:03 1174k"
      },
      {
       "output_type": "stream",
       "stream": "stdout",
       "text": "\r 92  100M   92 92.6M    0     0  3031k      0  0:00:33  0:00:31  0:00:02  723k"
      },
      {
       "output_type": "stream",
       "stream": "stdout",
       "text": "\r 95  100M   95 96.0M    0     0  3045k      0  0:00:33  0:00:32  0:00:01 1236k"
      },
      {
       "output_type": "stream",
       "stream": "stdout",
       "text": "\r 99  100M   99 99.7M    0     0  3068k      0  0:00:33  0:00:33 --:--:-- 1931k"
      },
      {
       "output_type": "stream",
       "stream": "stdout",
       "text": "\r100  100M  100  100M    0     0  3070k      0  0:00:33  0:00:33 --:--:-- 2367k\r\n"
      }
     ],
     "prompt_number": 16
    },
    {
     "cell_type": "markdown",
     "metadata": {},
     "source": "Question 1:"
    },
    {
     "cell_type": "code",
     "collapsed": false,
     "input": "import json\nfile = open('userActivity.json','r')\n\nusers = set()\nobjects = set()\nresponses = set()\n\nfor line in file:\n    data = json.loads(line)\n    users.add(str(data['user']))\n    objects.add(str(data['object']))\n    responses.add(str(data['response']))\n\nfile.close()\nprint(\"Uninque Users : \"+str(len(users)))\nprint(\"Uninque Objects : \"+str(len(objects)))\nprint(\"Uninque Responses : \"+str(len(responses)))",
     "language": "python",
     "metadata": {},
     "outputs": [
      {
       "output_type": "stream",
       "stream": "stdout",
       "text": "Uninque Users : 15699\nUninque Objects : 340423\nUninque Responses : 69871\n"
      }
     ],
     "prompt_number": 17
    },
    {
     "cell_type": "markdown",
     "metadata": {},
     "source": "Question 2:"
    },
    {
     "cell_type": "code",
     "collapsed": false,
     "input": "!grep -v 'NULL' userActivity.json > userActivity2.json",
     "language": "python",
     "metadata": {},
     "outputs": [],
     "prompt_number": 18
    },
    {
     "cell_type": "markdown",
     "metadata": {},
     "source": "Question 3:"
    },
    {
     "cell_type": "code",
     "collapsed": false,
     "input": "from collections import defaultdict\n\nrej = defaultdict(int) \nsub = defaultdict(int)\nrate = defaultdict(float)\n\nfile = open('userActivity2.json', 'r')\nfor line in file:\n    data = json.loads(line)\n    sub[str(data['user'])] = sub[str(data['user'])] + 1\n    if (str(data['accepted']) == '0'):\n        rej[str(data['user'])] = rej[str(data['user'])] + 1\nfile.close()\n\nfor user in sub.keys():\n    rate[user] = float(float(rej[user])/float(sub[user]))\n\nhighestRejRate = sorted(rate, key=rate.get, reverse=True)[:5]\nhighestRej = sorted(rej, key=rej.get, reverse=True)[:5]\n\nprint('The 5 users with the highest rejection rate (Highest to Lowest):')\nfor ID in highestRejRate:\n    print(str(highestRejRate.index(ID)+1)+ ' Rejection Rate: ' + str(rate[ID])+ ' --- UserID: ' + str(ID))\nprint('\\n')\n\nprint('The 5 users highest amount of rejections (Highest to Lowest):')\nfor ID in highestRej:\n    print(str(highestRej.index(ID)+1) + ' Rejections:' + str(rej[ID])+ ' --- UserID: ' + str(ID) )\nprint('\\n')",
     "language": "python",
     "metadata": {},
     "outputs": [
      {
       "output_type": "stream",
       "stream": "stdout",
       "text": "The 5 users with the highest rejection rate (Highest to Lowest):\n1 Rejection Rate: 1.0 --- UserID: -6984803100908813039\n2 Rejection Rate: 1.0 --- UserID: -2997529519366577927\n3 Rejection Rate: 1.0 --- UserID: 6461929972896738837\n4 Rejection Rate: 1.0 --- UserID: -5323585098101394071\n5 Rejection Rate: 1.0 --- UserID: -644214227488396369\n\n\nThe 5 users highest amount of rejections (Highest to Lowest):\n1 Rejections:6009 --- UserID: 5461918972760738536\n2 Rejections:3606 --- UserID: 3461916972872738871\n3 Rejections:2449 --- UserID: 6400038450057764\n4 Rejections:2275 --- UserID: 4814036714632610472\n5 Rejections:1517 --- UserID: -2088598916602095351\n\n\n"
      }
     ],
     "prompt_number": 38
    },
    {
     "cell_type": "markdown",
     "metadata": {},
     "source": "Question 4:"
    },
    {
     "cell_type": "code",
     "collapsed": false,
     "input": "rej = defaultdict(int) \nsub = defaultdict(int)\nrate = defaultdict(float)\n\nfile = open('userActivity2.json', 'r')\nfor line in file:\n    data = json.loads(line)\n    sub[str(data['response'])] = sub[str(data['response'])] + 1\n    if (str(data['accepted']) == '0'):\n        rej[str(data['response'])] = rej[str(data['response'])] + 1\nfile.close()\n\nfor response in sub.keys():\n    rate[response] = float(rej[response]/sub[response])\n\nhighestRejRate2 = sorted(rate, key=rate.get, reverse=True)[:5]\n\nprint('The 5 responses with the highest rejection rate (Highest to Lowest):')\nfor ID in highestRejRate2:\n    print(str(highestRejRate2.index(ID)+1)+ ' Rejection Rate: ' + str(rate[ID])+ ' --- ResponseID: ' + str(ID))\nprint('\\n')\n\nbadPredicts = 0\n\nfile = open('userActivity2.json', 'r')\nfor line in file:\n    data = json.loads(line)\n    if (str(data['response']) in highestRejRate2) and (str(data['accepted']) == '1'):\n        badPredicts = badPredicts +1\n\nfile.close()\n\nprint(\"Automating the process would result in \"+str(badPredicts)+\" incorrect predictions.\")\n\n        \n\n",
     "language": "python",
     "metadata": {},
     "outputs": [
      {
       "output_type": "stream",
       "stream": "stdout",
       "text": "The 5 responses with the highest rejection rate (Highest to Lowest):\n1 Rejection Rate: 1.0 --- ResponseID: -7762461912090450851\n2 Rejection Rate: 1.0 --- ResponseID: 311993667081074381\n3 Rejection Rate: 1.0 --- ResponseID: -4927222615973890280\n4 Rejection Rate: 1.0 --- ResponseID: 8596158756409688885\n5 Rejection Rate: 1.0 --- ResponseID: 3311671976992967807\n\n\nAutomating the process would result in 0 incorrect predictions."
      },
      {
       "output_type": "stream",
       "stream": "stdout",
       "text": "\n"
      }
     ],
     "prompt_number": 27
    },
    {
     "cell_type": "markdown",
     "metadata": {},
     "source": "Question 5:"
    },
    {
     "cell_type": "code",
     "collapsed": false,
     "input": "acp = defaultdict(int) \nsub = defaultdict(int)\n\n\nfile = open('userActivity2.json', 'r')\nfor line in file:\n    data = json.loads(line)\n    sub[str(data['user'])] = sub[str(data['user'])] + 1\n    if (str(data['accepted']) == '1'):\n        acp[str(data['user'])] = acp[str(data['user'])] + 1\nfile.close()\n\nhighestAcp = sorted(acp, key=acp.get, reverse=True)[:5]\n\nprint('The 5 users highest amount of acceptances (Highest to Lowest):')\nfor ID in highestAcp:\n    print(str(highestAcp.index(ID)+1) + ' Acceptances:' + str(acp[ID])+ ' --- UserID: ' + str(ID) )\nprint('\\n')\n\nbadPredicts = 0\n\nfile = open('userActivity2.json', 'r')\nfor line in file:\n    data = json.loads(line)\n    if (str(data['user']) in highestAcp) and (str(data['accepted']) == '0'):\n        badPredicts = badPredicts +1\n\nfile.close()\n\nprint(\"Automating the process would result in \"+str(badPredicts)+\" incorrect predictions.\")",
     "language": "python",
     "metadata": {},
     "outputs": [
      {
       "output_type": "stream",
       "stream": "stdout",
       "text": "16\n23\n0.695652173913\nThe 5 users highest amount of acceptances (Highest to Lowest):\n1 Acceptances:33628 --- UserID: 3461916972869738765\n2 Acceptances:26302 --- UserID: 5461918972760738536\n3 Acceptances:19007 --- UserID: 4814036714632610472\n4 Acceptances:17037 --- UserID: 6400038450057764\n5 Acceptances:11472 --- UserID: 8461920972786738646\n\n\nAutomating the process would result in 12391 incorrect predictions."
      },
      {
       "output_type": "stream",
       "stream": "stdout",
       "text": "\n"
      }
     ],
     "prompt_number": 37
    },
    {
     "cell_type": "markdown",
     "metadata": {},
     "source": "Question 6:"
    },
    {
     "cell_type": "code",
     "collapsed": false,
     "input": "import matplotlib.pyplot as plt\nfrom math import ceil\n%matplotlib inline\n\nacp = defaultdict(int) \nsub = defaultdict(int)\nacpRate = defaultdict(float)\nrates = defaultdict(int)\n\n\nfile = open('userActivity2.json', 'r')\nfor line in file:\n    data = json.loads(line)\n    sub[str(data['user'])] = sub[str(data['user'])] + 1\n    if (str(data['accepted']) == '1'):\n        acp[str(data['user'])] = acp[str(data['user'])] + 1\nfile.close()\n\nfor user in sub.keys():\n    acpRate[user] = float(float(acp[user])/float(sub[user]))\n\nfor k,v in acpRate.iteritems():\n    num = ceil(v * 100) / 100.0  ##Round of to 2 decimal for rates\n    rates[num] = rates[num]+1\n\n\n",
     "language": "python",
     "metadata": {},
     "outputs": [],
     "prompt_number": 45
    },
    {
     "cell_type": "code",
     "collapsed": false,
     "input": "\nimport collections as col\nimport matplotlib.pyplot as plt\n%matplotlib inline\n\norderedRates = col.OrderedDict(sorted(rates.items()))\nx = orderedRates.keys()\ny = orderedRates.values()\nplt.plot(x,y)\nplt.autoscale(enable=True, axis='both', tight=None)\nplt.xlabel(\"Acceptance Percent\")\nplt.ylabel(\"Num of users\")\nplt.title(\"Dist. of User Acceptance Rates\",{'fontsize':18})\n\n\n\n",
     "language": "python",
     "metadata": {},
     "outputs": [
      {
       "metadata": {},
       "output_type": "pyout",
       "prompt_number": 96,
       "text": "<matplotlib.text.Text at 0x10a3cbd50>"
      },
      {
       "metadata": {},
       "output_type": "display_data",
       "png": "[encoded data removed]",
       "text": "<matplotlib.figure.Figure at 0x1095be350>"
      }
     ],
     "prompt_number": 96
    },
    {
     "cell_type": "code",
     "collapsed": false,
     "input": "plot2 = plt.bar(x,y,0.001)",
     "language": "python",
     "metadata": {},
     "outputs": [
      {
       "metadata": {},
       "output_type": "display_data",
       "png": "[encoded data removed]",
       "text": "<matplotlib.figure.Figure at 0x10a390110>"
      }
     ],
     "prompt_number": 99
    },
    {
     "cell_type": "code",
     "collapsed": false,
     "input": "",
     "language": "python",
     "metadata": {},
     "outputs": []
    }
   ],
   "metadata": {}
  }
 ]
}