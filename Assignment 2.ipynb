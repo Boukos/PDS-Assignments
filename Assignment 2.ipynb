{
 "metadata": {
  "name": ""
 },
 "nbformat": 3,
 "nbformat_minor": 0,
 "worksheets": [
  {
   "cells": [
    {
     "cell_type": "heading",
     "level": 1,
     "metadata": {},
     "source": [
      "Assignment 2 - by Kevin Fox"
     ]
    },
    {
     "cell_type": "heading",
     "level": 4,
     "metadata": {},
     "source": [
      "Start by downloading the file as \"survey_multiple_choice.csv\""
     ]
    },
    {
     "cell_type": "code",
     "collapsed": false,
     "input": [
      "!curl -k -o survey_multiple_choice.csv https://raw.github.com/jattenberg/PDS-Fall-2013/master/roster/survey_multiple_choice.csv"
     ],
     "language": "python",
     "metadata": {},
     "outputs": [
      {
       "output_type": "stream",
       "stream": "stdout",
       "text": [
        "  % Total    % Received % Xferd  Average Speed   Time    Time     Time  Current\r\n",
        "                                 Dload  Upload   Total   Spent    Left  Speed\r\n",
        "\r",
        "  0     0    0     0    0     0      0      0 --:--:-- --:--:-- --:--:--     0"
       ]
      },
      {
       "output_type": "stream",
       "stream": "stdout",
       "text": [
        "\r",
        "100 11936  100 11936    0     0   132k      0 --:--:-- --:--:-- --:--:--  194k\r\n"
       ]
      }
     ],
     "prompt_number": 46
    },
    {
     "cell_type": "markdown",
     "metadata": {},
     "source": [
      "Then we do a little poking around."
     ]
    },
    {
     "cell_type": "code",
     "collapsed": false,
     "input": [
      "!wc -l survey_multiple_choice.csv"
     ],
     "language": "python",
     "metadata": {},
     "outputs": [
      {
       "output_type": "stream",
       "stream": "stdout",
       "text": [
        "      52 survey_multiple_choice.csv\r\n"
       ]
      }
     ],
     "prompt_number": 47
    },
    {
     "cell_type": "markdown",
     "metadata": {},
     "source": [
      "Then we write a little script to answer the first couple of questions."
     ]
    },
    {
     "cell_type": "code",
     "collapsed": false,
     "input": [
      "%matplotlib inline\n",
      "import matplotlib.pyplot as plt\n",
      "userInput = \"survey_multiple_choice.csv\"\n",
      "surveyFile = open(userInput,\"r\")\n",
      "studentCount=0\n",
      "commandline = [0,0,0,0,0]\n",
      "database = [0,0,0,0,0]\n",
      "programming = [0,0,0,0,0]\n",
      "\n",
      "\n",
      "for line in surveyFile:\n",
      "\tstudentCount=studentCount+1\n",
      "\tcolumns = line.split(\",\")\n",
      "\tif \"even understand\" in columns[2]:\n",
      "\t\tcommandline[0]=commandline[0]+1\n",
      "\telif \"no experience working\" in columns[2]:\n",
      "\t\tcommandline[1]=commandline[1]+1\n",
      "\telif \"issued a few commands in a terminal\" in columns[2]:\n",
      "\t\tcommandline[2]=commandline[2]+1\n",
      "\telif \"written simple terminal commands\" in columns[2]:\n",
      "\t\tcommandline[3]=commandline[3]+1\n",
      "\telif \"written complex commands done\" in columns[2]:\n",
      "\t\tcommandline[4]=commandline[4]+1\n",
      "\tif \"never directly accessed a database\" in columns[3]:\n",
      "\t\tdatabase[0]=database[0]+1\n",
      "\telif \"have issued simple queries to a relational database based\" in columns[3]:\n",
      "\t\tdatabase[1]=database[1]+1\n",
      "\telif \"can write simple queries and issue them\" in columns[3]:\n",
      "\t\tdatabase[2]=database[2]+1\n",
      "\telif \"write very complex queries\" in columns[3]:\n",
      "\t\tdatabase[3]=database[3]+1\n",
      "\telif \"database hacker\" in columns[3]:\n",
      "\t\tdatabase[4]=database[4]+1\n",
      "\tif \"never programmed\" in columns[4]:\n",
      "\t\tprogramming[0]=programming[0]+1\n",
      "\telif \"I have written simple programs, based on instructions or\" in columns[4]:\n",
      "\t\tprogramming[1]=programming[1]+1\n",
      "\telif \"write simple programs to accomplish tasks\" in columns[4]:\n",
      "\t\tprogramming[2]=programming[2]+1\n",
      "\telif \"can write complex programs, am familiar with programming design patterns\" in columns[4]:\n",
      "\t\tprogramming[3]=programming[3]+1\n",
      "\telif \"am a hacker or have  senior-level programming\" in columns[4]:\n",
      "\t\tprogramming[4]=programming[4]+1\n",
      "\n",
      "### Cumulative Scoring for Skills ###\n",
      "countCommand=0 \n",
      "countDatabase=0\n",
      "countProgramming=0 \n",
      "\n",
      "for x in range(5):\n",
      "\tcountCommand = countCommand +((x+1)*commandline[x])\n",
      "for x in range(5):\n",
      "\tcountDatabase = countDatabase +((x+1)*database[x])\n",
      "for x in range(5):\n",
      "\tcountProgramming = countProgramming +((x+1)*programming[x])\n",
      "\n",
      "\n",
      "\n",
      "\n",
      "## Response ##\n",
      "print \"\"\n",
      "print \"----Data understanding and visualization----\"\n",
      "print \"Answer 1: \"+str(studentCount)+\" students answered the survey.\"\n",
      "print \"Answer 2: Command-line Skills \"\n",
      "print \"\t\t\tSkill Level 1: \"+str(commandline[0])\n",
      "print \"\t\t\tSkill Level 2: \"+str(commandline[1])\n",
      "print \"\t\t\tSkill Level 3: \"+str(commandline[2])\n",
      "print \"\t\t\tSkill Level 4: \"+str(commandline[3])\n",
      "print \"\t\t\tSkill Level 5: \"+str(commandline[4])\n",
      "print \"\t\tDatabase Skills \"\n",
      "print \"\t\t\tSkill Level 1: \"+str(database[0])\n",
      "print \"\t\t\tSkill Level 2: \"+str(database[1])\n",
      "print \"\t\t\tSkill Level 3: \"+str(database[2])\n",
      "print \"\t\t\tSkill Level 4: \"+str(database[3])\n",
      "print \"\t\t\tSkill Level 5: \"+str(database[4])\n",
      "print \"\t\tProgramming Skills \"\n",
      "print \"\t\t\tSkill Level 1: \"+str(programming[0])\n",
      "print \"\t\t\tSkill Level 2: \"+str(programming[1])\n",
      "print \"\t\t\tSkill Level 3: \"+str(programming[2])\n",
      "print \"\t\t\tSkill Level 4: \"+str(programming[3])\n",
      "print \"\t\t\tSkill Level 5: \"+str(programming[4])\n",
      "print \"Answer 3: highest overall skill level amongst the students is with the Commandline\"\n",
      "print \" \t\tCommand-line Overal Skill Score : ***\"+str(countCommand)+\"***\"\n",
      "print \" \t\tDatabase Overal Skill Score : \"+str(countDatabase)\n",
      "print \" \t\tProgramming Overal Skill Score : \"+str(countProgramming)\n",
      "print \"\""
     ],
     "language": "python",
     "metadata": {},
     "outputs": [
      {
       "output_type": "stream",
       "stream": "stdout",
       "text": [
        "\n",
        "----Data understanding and visualization----\n",
        "Answer 1: 52 students answered the survey.\n",
        "Answer 2: Command-line Skills \n",
        "\t\t\tSkill Level 1: 5\n",
        "\t\t\tSkill Level 2: 6\n",
        "\t\t\tSkill Level 3: 21\n",
        "\t\t\tSkill Level 4: 18\n",
        "\t\t\tSkill Level 5: 2\n",
        "\t\tDatabase Skills \n",
        "\t\t\tSkill Level 1: 17\n",
        "\t\t\tSkill Level 2: 10\n",
        "\t\t\tSkill Level 3: 17\n",
        "\t\t\tSkill Level 4: 8\n",
        "\t\t\tSkill Level 5: 0\n",
        "\t\tProgramming Skills \n",
        "\t\t\tSkill Level 1: 6\n",
        "\t\t\tSkill Level 2: 0\n",
        "\t\t\tSkill Level 3: 17\n",
        "\t\t\tSkill Level 4: 0\n",
        "\t\t\tSkill Level 5: 0\n",
        "Answer 3: highest overall skill level amongst the students is with the Commandline\n",
        " \t\tCommand-line Overal Skill Score : ***162***\n",
        " \t\tDatabase Overal Skill Score : 120\n",
        " \t\tProgramming Overal Skill Score : 57\n",
        "\n"
       ]
      }
     ],
     "prompt_number": 48
    },
    {
     "cell_type": "markdown",
     "metadata": {},
     "source": [
      "Then we plot our results in a bar and line plot."
     ]
    },
    {
     "cell_type": "code",
     "collapsed": false,
     "input": [
      "print \"Answer 4 : Bar Plot\"\n",
      "for x in range(5):\n",
      "    plt.bar(((x+1)-.1),commandline[x],width=0.6, color=\"b\")\n",
      "    plt.bar((x+1),database[x],width=0.5,color=\"r\")\n",
      "    plt.bar((x+1),programming[x],width=0.4,color=\"g\")\n",
      "plt.xlabel(\"Skill Level\")\n",
      "plt.ylabel(\"Number of Responses\")\n",
      "plt.title(\"Bar Plot of Survey Skill Level\")\n",
      "plt.legend( ('commandline', 'database', 'programming'), loc=0 )"
     ],
     "language": "python",
     "metadata": {},
     "outputs": [
      {
       "output_type": "stream",
       "stream": "stdout",
       "text": [
        "Answer 4 : Bar Plot\n"
       ]
      },
      {
       "metadata": {},
       "output_type": "pyout",
       "prompt_number": 70,
       "text": [
        "<matplotlib.legend.Legend at 0x108f1a310>"
       ]
      },
      {
       "metadata": {},
       "output_type": "display_data",
       "png": "[encoded data removed]",
       "text": [
        "<matplotlib.figure.Figure at 0x108b8a050>"
       ]
      }
     ],
     "prompt_number": 70
    },
    {
     "cell_type": "code",
     "collapsed": false,
     "input": [
      "print \"Answer 5: Line Plot\"\n",
      "\n",
      "plt.plot(range(0,5),commandline,color='blue', linestyle='dashed', marker='o',\n",
      "         markerfacecolor='blue')\n",
      "plt.plot(range(0,5),database,color='green', linestyle='dashed', marker='o',\n",
      "         markerfacecolor='green')\n",
      "plt.plot(range(0,5),programming,color='red', linestyle='dashed', marker='o',\n",
      "         markerfacecolor='red')\n",
      "plt.legend((\"command-line\",\"database\",\"programming\"),loc=0)"
     ],
     "language": "python",
     "metadata": {},
     "outputs": [
      {
       "output_type": "stream",
       "stream": "stdout",
       "text": [
        "Answer 5: Line Plot\n"
       ]
      },
      {
       "metadata": {},
       "output_type": "pyout",
       "prompt_number": 71,
       "text": [
        "<matplotlib.legend.Legend at 0x108fbab50>"
       ]
      },
      {
       "metadata": {},
       "output_type": "display_data",
       "png": "[encoded data removed]",
       "text": [
        "<matplotlib.figure.Figure at 0x108bac510>"
       ]
      }
     ],
     "prompt_number": 71
    },
    {
     "cell_type": "heading",
     "level": 4,
     "metadata": {},
     "source": [
      "Part 2: "
     ]
    },
    {
     "cell_type": "code",
     "collapsed": false,
     "input": [
      "!curl -k -o incomeLevel.data https://raw.github.com/jattenberg/PDS-Fall-2013/master/marketing/marketing.data\n",
      "!grep -v '^$' incomeLevel.data > incomeLevel2.data\n"
     ],
     "language": "python",
     "metadata": {},
     "outputs": [
      {
       "output_type": "stream",
       "stream": "stdout",
       "text": [
        "  % Total    % Received % Xferd  Average Speed   Time    Time     Time  Current\r\n",
        "                                 Dload  Upload   Total   Spent    Left  Speed\r\n",
        "\r",
        "  0     0    0     0    0     0      0      0 --:--:-- --:--:-- --:--:--     0"
       ]
      },
      {
       "output_type": "stream",
       "stream": "stdout",
       "text": [
        "\r",
        "100  248k  100  248k    0     0  1379k      0 --:--:-- --:--:-- --:--:-- 1714k\r\n"
       ]
      }
     ],
     "prompt_number": 13
    },
    {
     "cell_type": "markdown",
     "metadata": {},
     "source": [
      "Assumptions: I used absolute value for difference and assumed that if education was 'NA' that we predicted 4"
     ]
    },
    {
     "cell_type": "code",
     "collapsed": false,
     "input": [
      "data = open(\"incomeLevel2.data\",\"r\")\n",
      "##Column 4 is Education Level##\n",
      "## Nominal Income level is 4##\n",
      "\n",
      "\n",
      "incNom = 4\n",
      "actual = []\n",
      "pred = []\n",
      "dif = []\n",
      "\n",
      "for line in data:\n",
      "    column = line.strip().split(' ')\n",
      "    tempPred=4\n",
      "    if column[0] is not None:\n",
      "        if column[4]=='1':\n",
      "            tempPred = tempPred-3\n",
      "            pred.append(tempPred)  \n",
      "        elif column[4]=='2':\n",
      "            tempPred = tempPred-1\n",
      "            pred.append(tempPred)\n",
      "        elif column[4]=='3':\n",
      "            tempPred = tempPred-0\n",
      "            pred.append(tempPred)\n",
      "        elif column[4]=='4':\n",
      "            tempPred = tempPred+1\n",
      "            pred.append(tempPred)\n",
      "        elif column[4]=='5':\n",
      "            tempPred = tempPred+3\n",
      "            pred.append(tempPred)\n",
      "        elif column[4]=='6':\n",
      "            tempPred = tempPred+4\n",
      "            pred.append(tempPred)\n",
      "        else:\n",
      "            tempPred = tempPred\n",
      "            pred.append(tempPred)\n",
      "        actual.append(int(column[0]))\n",
      "        dif.append(abs(float(column[0])-tempPred))\n",
      "\n",
      "\n",
      "totalSum1 = 0\n",
      "count1 = 0\n",
      "for x in dif:\n",
      "    totalSum1 = totalSum1 + x\n",
      "    count1 = count1 +1\n",
      "    \n",
      "print \"The total absolute difference between the actual and predicted values was: \\n\"+str(float(totalSum1)) \n",
      "print \"The average absolute difference between the actual and predicted values was: \\n\"+str(float(totalSum1/count1)) \n",
      "\n",
      "### Below is the each individual dif ###\n",
      "\n",
      "\n",
      "    \n",
      "\n",
      "        \n",
      "\n",
      "    "
     ],
     "language": "python",
     "metadata": {},
     "outputs": [
      {
       "output_type": "stream",
       "stream": "stdout",
       "text": [
        "The total absolute difference between the actual and predicted values was: \n",
        "-1615.0\n",
        "The average absolute difference between the actual and predicted values was: \n",
        "-0.179584120983\n"
       ]
      }
     ],
     "prompt_number": 26
    },
    {
     "cell_type": "code",
     "collapsed": false,
     "input": [
      "data2 = open(\"incomeLevel2.data\",\"r\")\n",
      "\n",
      "incNom = 4\n",
      "\n",
      "dif = []\n",
      "under = []\n",
      "over = []\n",
      "\n",
      "for line in data2:\n",
      "    column = line.strip().split(' ')\n",
      "    tempPred=4\n",
      "    \n",
      "    if column[4]=='1':\n",
      "        tempPred = tempPred-3 \n",
      "    elif column[4]=='2':\n",
      "        tempPred = tempPred-1\n",
      "    elif column[4]=='3':\n",
      "        tempPred = tempPred-0\n",
      "    elif column[4]=='4':\n",
      "        tempPred = tempPred+1\n",
      "    elif column[4]=='5':\n",
      "        tempPred = tempPred+3\n",
      "    elif column[4]=='6':\n",
      "        tempPred = tempPred+4\n",
      "    else:\n",
      "        tempPred = tempPred-0\n",
      "    if column[5]=='1':\n",
      "        tempPred = tempPred+2.5\n",
      "    elif column[5]=='2':\n",
      "        tempPred = tempPred+0.6\n",
      "    elif column[5]=='3':\n",
      "        tempPred = tempPred-0\n",
      "    elif column[5]=='4':\n",
      "        tempPred = tempPred+0.2\n",
      "    elif column[5]=='5':\n",
      "        tempPred = tempPred-0.5\n",
      "    elif column[5]=='6':\n",
      "        tempPred = tempPred-1.5\n",
      "    elif column[5]=='7':\n",
      "        tempPred = tempPred+0.3\n",
      "    elif column[5]=='8':\n",
      "        tempPred = tempPred+0.8\n",
      "    elif column[5]=='9':\n",
      "        tempPred = tempPred-2.5\n",
      "    else:\n",
      "        tempPred = tempPred-0\n",
      "    dif.append(abs(float(column[0])-tempPred))\n",
      "    \n",
      "    if float(column[0])-tempPred > 0 :\n",
      "        under.append('1')\n",
      "        \n",
      "    if float(column[0])-tempPred < 0 :\n",
      "        over.append('1')\n",
      "        \n",
      "        \n",
      "\n",
      "\n",
      "totalSum2 = 0\n",
      "count2 = 0\n",
      "for x in dif:\n",
      "    totalSum2 = totalSum2 + x\n",
      "    count2 = count2 +1\n",
      "\n",
      "print \"The total absolute difference between the actual and predicted values was: \\n\"+str(float(totalSum2)) \n",
      "print \"The average absolute difference between the actual and predicted values was: \\n\"+str(float(totalSum2/count2)) \n",
      "print \"Over Estimaed Income \"+str(len(over))+\" times and under estimated income \"+str(len(under))+\" times.\""
     ],
     "language": "python",
     "metadata": {},
     "outputs": [
      {
       "output_type": "stream",
       "stream": "stdout",
       "text": [
        "The total absolute difference between the actual and predicted values was: \n",
        "20005.8\n",
        "The average absolute difference between the actual and predicted values was: \n",
        "2.22459690871\n",
        "Over Estimaed Income 5748 times and under estimated income 3126 times.\n"
       ]
      }
     ],
     "prompt_number": 45
    },
    {
     "cell_type": "markdown",
     "metadata": {},
     "source": [
      "Answers: The first predictive model scored higher with average absolute difference between the actual income and the predicted income with a score of 2.06 while the second predictive model scored a higher average absolute difference of 2.22. Additionally the second model over estimated incomes 5748 times and under estimated income 3126 times so therefore I would say the second model is more likely to over estimate than under estimate. "
     ]
    },
    {
     "cell_type": "code",
     "collapsed": false,
     "input": [],
     "language": "python",
     "metadata": {},
     "outputs": [],
     "prompt_number": 45
    },
    {
     "cell_type": "code",
     "collapsed": false,
     "input": [],
     "language": "python",
     "metadata": {},
     "outputs": []
    }
   ],
   "metadata": {}
  }
 ]
}