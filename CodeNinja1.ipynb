{
 "metadata": {
  "name": ""
 },
 "nbformat": 3,
 "nbformat_minor": 0,
 "worksheets": [
  {
   "cells": [
    {
     "cell_type": "markdown",
     "metadata": {},
     "source": [
      "First line of the input contains the text.\\nNext line contains k , the number of  words given to be searched.\\nEach of the next k lines contains a word."
     ]
    },
    {
     "cell_type": "code",
     "collapsed": false,
     "input": [
      "AllInput= str(raw_input())\n",
      "lines = AllInput.split('\\n')\n",
      "\n",
      "for line in lines:\n",
      "    print line"
     ],
     "language": "python",
     "metadata": {},
     "outputs": [
      {
       "name": "stdout",
       "output_type": "stream",
       "stream": "stdout",
       "text": [
        "First line of the input contains the text. Next line contains k , the number of  words given to be searched. Each of the next k lines contains a word.\n"
       ]
      },
      {
       "output_type": "stream",
       "stream": "stdout",
       "text": [
        "First line of the input contains the text. Next line contains k , the number of  words given to be searched. Each of the next k lines contains a word.\n"
       ]
      }
     ],
     "prompt_number": 31
    },
    {
     "cell_type": "code",
     "collapsed": false,
     "input": [],
     "language": "python",
     "metadata": {},
     "outputs": []
    }
   ],
   "metadata": {}
  }
 ]
}