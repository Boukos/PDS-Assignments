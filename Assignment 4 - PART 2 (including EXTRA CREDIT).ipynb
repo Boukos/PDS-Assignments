{
 "metadata": {
  "name": ""
 },
 "nbformat": 3,
 "nbformat_minor": 0,
 "worksheets": [
  {
   "cells": [
    {
     "cell_type": "markdown",
     "metadata": {},
     "source": [
      "First Step is download the roster.html in order to do the analysis."
     ]
    },
    {
     "cell_type": "code",
     "collapsed": false,
     "input": [
      "!curl http://people.stern.nyu.edu/ja1517/data/pds_2012_roster.html > roster.html\n"
     ],
     "language": "python",
     "metadata": {},
     "outputs": [
      {
       "output_type": "stream",
       "stream": "stdout",
       "text": [
        "  % Total    % Received % Xferd  Average Speed   Time    Time     Time  Current\r\n",
        "                                 Dload  Upload   Total   Spent    Left  Speed\r\n",
        "\r",
        "  0     0    0     0    0     0      0      0 --:--:-- --:--:-- --:--:--     0"
       ]
      },
      {
       "output_type": "stream",
       "stream": "stdout",
       "text": [
        "\r",
        "100 25218  100 25218    0     0   333k      0 --:--:-- --:--:-- --:--:--  513k\r\n"
       ]
      }
     ],
     "prompt_number": 185
    },
    {
     "cell_type": "heading",
     "level": 4,
     "metadata": {},
     "source": [
      "1 ) Within the document, there are several student IDs (the column actually is titled E-mail). Extract these IDs from the html and print them to a file, one per line."
     ]
    },
    {
     "cell_type": "code",
     "collapsed": false,
     "input": [
      "import re as re\n",
      "\n",
      "file1 = open('roster.html')\n",
      "outputFile1 = open('output1.txt','a')\n",
      "regex = re.compile('>[a-z]{2,3}[0-9]{3,4}<')\n",
      "studentIDs = {}\n",
      "\n",
      "for line in file1:\n",
      "    four_letter_words = regex.findall(line)\n",
      "    for word in four_letter_words:\n",
      "        studentIDs[word] = 1\n",
      "print \"Number of Student IDs : \",\n",
      "print len(studentIDs)\n",
      "print \"\"\n",
      "for key in studentIDs.keys():\n",
      "    print key.replace('>',' ').replace('<',' ')\n",
      "    outputFile1.write(str(key.replace('>','').replace('<','')))\n",
      "    outputFile1.write(\"\\n\")\n",
      "outputFile1.close()\n",
      "file1.close()\n",
      "\n"
     ],
     "language": "python",
     "metadata": {},
     "outputs": [
      {
       "output_type": "stream",
       "stream": "stdout",
       "text": [
        "Number of Student IDs :  44\n",
        "\n",
        " jhr320 \n",
        " kg1155 \n",
        " vd511 \n",
        " bct248 \n",
        " jz996 \n",
        " svs290 \n",
        " aj1149 \n",
        " arb492 \n",
        " ssb405 \n",
        " jh3347 \n",
        " zf309 \n",
        " aka300 \n",
        " hnk224 \n",
        " ksj222 \n",
        " djs507 \n",
        " kjs418 \n",
        " amc723 \n",
        " ll1691 \n",
        " ar3109 \n",
        " das607 \n",
        " jc4794 \n",
        " vj384 \n",
        " ds3569 \n",
        " jh924 \n",
        " as6317 \n",
        " asa384 \n",
        " xyh202 \n",
        " sr1927 \n",
        " ss6335 \n",
        " ajc591 \n",
        " dhk332 \n",
        " mrp295 \n",
        " cp1105 \n",
        " cmc616 \n",
        " awl270 \n",
        " zbh203 \n",
        " rjz226 \n",
        " srh371 \n",
        " tfp211 \n",
        " crg272 \n",
        " sp2710 \n",
        " rs2715 \n",
        " aml601 \n",
        " dcc327 \n"
       ]
      }
     ],
     "prompt_number": 186
    },
    {
     "cell_type": "heading",
     "level": 4,
     "metadata": {},
     "source": [
      "2 ) - Constrain your search to print only those students with four letters in their last names or less. How many students were removed?    "
     ]
    },
    {
     "cell_type": "code",
     "collapsed": false,
     "input": [
      "import re as re\n",
      "\n",
      "file2 = open('roster.html')\n",
      "outputFile2 = open('output2.txt','a')\n",
      "regex2 = re.compile('[A-Z]{1,1}[a-zA-Z]{0,3}[,]{1,1}[ ]*[a-zA-Z]*[ ]*[a-zA-Z.]*')\n",
      "studentNames = {}\n",
      "\n",
      "for line in file2:\n",
      "    four_letter_words = regex2.findall(line)\n",
      "    for word in four_letter_words:\n",
      "        studentNames[word] = 1\n",
      "    \n",
      "print \"Number of Student IDs : \",\n",
      "print len(studentNames)\n",
      "print \"\"\n",
      "for key in studentNames.keys():\n",
      "    print key\n",
      "    outputFile2.write(str(key))\n",
      "    outputFile2.write(\"\\n\")\n",
      "print \"\"\n",
      "print \"Number of students removed = \",\n",
      "print len(studentIDs)-len(studentNames)\n",
      "file2.close()\n",
      "outputFile2.close()"
     ],
     "language": "python",
     "metadata": {},
     "outputs": [
      {
       "output_type": "stream",
       "stream": "stdout",
       "text": [
        "Number of Student IDs :  14\n",
        "\n",
        "Saat, Daniel A.\n",
        "Hao, Jerry\n",
        "Lin, Liwen\n",
        "Hill, Zelos B.\n",
        "Shi, Shenglun\n",
        "Kim, Hyung\n",
        "Feng, Zhengyang\n",
        "John, Kevin C.\n",
        "Rhyu, Joseph H.\n",
        "Liss, Alexander W.\n",
        "Choi, Jaesik\n",
        "Ho, Xias Yi\n",
        "Zhu, Jianping\n",
        "Kim, Dong H.\n",
        "\n",
        "Number of students removed =  30\n"
       ]
      }
     ],
     "prompt_number": 187
    },
    {
     "cell_type": "heading",
     "level": 4,
     "metadata": {},
     "source": [
      "3 - For every student in the class, in addition to extracting their student ID, extract their name. Present the results by printing out, one student per line:<br/>\n",
      "                first (and middle) name [tab] last name [tab] student id"
     ]
    },
    {
     "cell_type": "code",
     "collapsed": false,
     "input": [
      "import re as re\n",
      "\n",
      "file3 = open('roster.html')\n",
      "outputFile3 = open('output3.txt','a')\n",
      "regex3 = re.compile('[A-Z]{1,1}[a-zA-Z]+[,]{1,1}[ ]*[a-zA-Z]*[ ]*[a-zA-Z.]*')\n",
      "regex4 = re.compile('>[a-z]{2,3}[0-9]{3,4}<')\n",
      "studentFullNames = []\n",
      "\n",
      "##skip first 120 lines to avoid instructor names\n",
      "for x in range(0,120):\n",
      "    file3.readline()\n",
      "\n",
      "for line in file3:\n",
      "    result1 = regex3.findall(line)\n",
      "    result2 = regex4.findall(line)\n",
      "    for word in result1:\n",
      "        studentFullNames.append(word)\n",
      "    for word in result2:\n",
      "        studentFullNames.append(word.replace('>','').replace('<',''))\n",
      "    \n",
      "\n",
      "print \"First and Middle \\t Last Name \\t NetID\"\n",
      "\n",
      "count=0\n",
      "for key in studentFullNames:\n",
      "    ##Check if odd, which means its a name not ID\n",
      "    if(count%2==0):\n",
      "        names = key.strip().split()\n",
      "        lastName = names[0].replace(',','').strip()\n",
      "        firstName = names[1].strip()\n",
      "        if(len(names)==3):\n",
      "            middleName = names[2].strip()\n",
      "            fullName = firstName+' '+middleName+'\\t'+lastName\n",
      "        else:\n",
      "            fullName = firstName+'\\t'+lastName\n",
      "        outputFile3.write(fullName)\n",
      "        print fullName,\n",
      "    else:\n",
      "        print '\\t',\n",
      "        outputFile3.write('\\t')\n",
      "        studentID = key\n",
      "        print key\n",
      "        outputFile3.write(studentID)\n",
      "        outputFile3.write('\\n')\n",
      "        \n",
      "        \n",
      "        \n",
      "    count+=1\n",
      "print \"\"\n",
      "file3.close()\n",
      "outputFile3.close()\n",
      "\n",
      "##NOTE I ADDED EXTRA TABS FOR BETTER OUTPUT FORMAT"
     ],
     "language": "python",
     "metadata": {},
     "outputs": [
      {
       "output_type": "stream",
       "stream": "stdout",
       "text": [
        "First and Middle \t Last Name \t NetID\n",
        "Abhishek Kumar\tAiyangar \taka300\n",
        "Antik Subodh\tAvasthi \tasa384\n",
        "Sonal Suresh\tBathe \tssb405\n",
        "Aditya\tBhandari \tarb492\n",
        "Corinne M.\tCasagrande \tcmc616\n",
        "Ann M.\tCedrone \tamc723\n",
        "Alejandro J.\tChahin \tajc591\n",
        "Jaesik\tChoi \tjc4794\n",
        "David C.\tCohodes \tdcc327\n",
        "Vitalii\tDoban \tvd511\n",
        "Zhengyang\tFeng \tzf309\n",
        "Charlotte R.\tGeorge \tcrg272\n",
        "Kelly\tGoldston \tkg1155\n",
        "Jerry\tHao \tjh3347\n",
        "Sneha R\tHarchwani \tsrh371\n",
        "Zelos B.\tHill \tzbh203\n",
        "Xias Yi\tHo \txyh202\n",
        "Joseph A.\tHooper \tjh924\n",
        "Vamsee\tJasti \tvj384\n",
        "Alex\tJoseph \taj1149\n",
        "Dong H.\tKim \tdhk332\n",
        "Hyung\tKim \thnk224\n",
        "Abby M.\tLerner \taml601\n",
        "Liwen\tLin \tll1691\n",
        "Alexander W.\tLiss \tawl270\n",
        "Smriti\tPandey \tsp2710\n",
        "Tyler F.\tPennell \ttfp211\n",
        "Michael R.\tPeres \tmrp295\n",
        "Craig S.\tPerler \tcp1105\n",
        "Suresh\tRangarajan \tsr1927\n",
        "Ashwath\tRavichandran \tar3109\n",
        "Joseph H.\tRhyu \tjhr320\n",
        "Daniel A.\tSaat \tdas607\n",
        "Deepa\tSaini \tds3569\n",
        "Douglas J.\tSanto \tdjs507\n",
        "Reshama\tShaikh \trs2715\n",
        "Shenglun\tShi \tss6335\n",
        "Amrish\tSingh \tas6317\n",
        "Kevin C.\tJohn \tksj222\n",
        "Kurt J.\tStanton \tkjs418\n",
        "Brandon C.\tTikalsky \tbct248\n",
        "Sebastian\tSanchez \tsvs290\n",
        "Ryan J.\tZaczynski \trjz226\n",
        "Jianping\tZhu \tjz996\n",
        "\n"
       ]
      }
     ],
     "prompt_number": 188
    },
    {
     "cell_type": "heading",
     "level": 4,
     "metadata": {},
     "source": [
      "4 ) - EXTRA CREDIT: The E-mail column seems misnamed. Create a new html document that replaces all student ids in this field with student email addresses."
     ]
    },
    {
     "cell_type": "code",
     "collapsed": false,
     "input": [
      "import re as re\n",
      "\n",
      "HTML = open('roster.html')\n",
      "outputHTML = open('rosterUpdated.html','a')\n",
      "regex = re.compile('>[a-z]{2,3}[0-9]{3,4}<')\n",
      "studentIDS = []\n",
      "\n",
      "\n",
      "for line in HTML:\n",
      "    result = regex.findall(line)\n",
      "    if(len(result)>0):\n",
      "        for word in result:\n",
      "            word = word.strip().replace('<','').replace('>','')\n",
      "            email = word+'@nyu.edu'\n",
      "            line=line.replace(word,email)\n",
      "    print line\n",
      "    outputHTML.write(line)\n",
      "        \n",
      "outputHTML.close()\n",
      "HTML.close()\n"
     ],
     "language": "python",
     "metadata": {},
     "outputs": [],
     "prompt_number": 2
    },
    {
     "cell_type": "code",
     "collapsed": false,
     "input": [],
     "language": "python",
     "metadata": {},
     "outputs": []
    }
   ],
   "metadata": {}
  }
 ]
}