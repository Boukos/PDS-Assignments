{
 "metadata": {
  "name": ""
 },
 "nbformat": 3,
 "nbformat_minor": 0,
 "worksheets": [
  {
   "cells": [
    {
     "cell_type": "heading",
     "level": 4,
     "metadata": {},
     "source": [
      "\n",
      "1) - How many shops are there??"
     ]
    },
    {
     "cell_type": "markdown",
     "metadata": {},
     "source": [
      "SELECT COUNT(shops.shop_id) as count <br/>\n",
      "FROM shops;<br/>\n",
      "<br/>\n",
      "OUTPUT:<br/>\n",
      "<br/><b>46426</b>\n"
     ]
    },
    {
     "cell_type": "code",
     "collapsed": false,
     "input": [],
     "language": "python",
     "metadata": {},
     "outputs": []
    }
   ],
   "metadata": {}
  }
 ]
}